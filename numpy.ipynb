{
  "nbformat": 4,
  "nbformat_minor": 0,
  "metadata": {
    "colab": {
      "provenance": [],
      "authorship_tag": "ABX9TyMG9v8qN3YuJJv2NSqvyOrk",
      "include_colab_link": true
    },
    "kernelspec": {
      "name": "python3",
      "display_name": "Python 3"
    },
    "language_info": {
      "name": "python"
    }
  },
  "cells": [
    {
      "cell_type": "markdown",
      "metadata": {
        "id": "view-in-github",
        "colab_type": "text"
      },
      "source": [
        "<a href=\"https://colab.research.google.com/github/hydro-7/Krish-Naik-Course/blob/main/numpy.ipynb\" target=\"_parent\"><img src=\"https://colab.research.google.com/assets/colab-badge.svg\" alt=\"Open In Colab\"/></a>"
      ]
    },
    {
      "cell_type": "code",
      "execution_count": 1,
      "metadata": {
        "colab": {
          "base_uri": "https://localhost:8080/"
        },
        "id": "FWMmo7uz7IdT",
        "outputId": "cfa8e0af-187d-4253-b12f-6ad05e1b9bc7"
      },
      "outputs": [
        {
          "output_type": "stream",
          "name": "stdout",
          "text": [
            "Requirement already satisfied: numpy in /usr/local/lib/python3.10/dist-packages (1.25.2)\n"
          ]
        }
      ],
      "source": [
        "!pip install numpy"
      ]
    },
    {
      "cell_type": "code",
      "source": [
        "import numpy as np\n"
      ],
      "metadata": {
        "id": "fnojj1RC7z-g"
      },
      "execution_count": 2,
      "outputs": []
    },
    {
      "cell_type": "markdown",
      "source": [
        "# **Arrays using numpy**\n"
      ],
      "metadata": {
        "id": "sSncdyt7781Q"
      }
    },
    {
      "cell_type": "code",
      "source": [
        "arr1 = np.array([1,2,3,4])\n",
        "# ^ 1D numpy array\n",
        "# => [1,2,3,4]\n",
        "# shape = (, 5) --> (r, c)\n",
        "\n",
        "arr2 = np.array([1,2,3,4])\n",
        "arr2.reshape(1,4)\n",
        "# reshapes it to a 2D numpy array\n",
        "# [[1,2,3,4]]\n",
        "# shape = (1, 5)\n"
      ],
      "metadata": {
        "colab": {
          "base_uri": "https://localhost:8080/"
        },
        "id": "8o68bCv58B8U",
        "outputId": "3d172c14-12b8-49c6-e755-8e09d988c62b"
      },
      "execution_count": 3,
      "outputs": [
        {
          "output_type": "execute_result",
          "data": {
            "text/plain": [
              "array([[1, 2, 3, 4]])"
            ]
          },
          "metadata": {},
          "execution_count": 3
        }
      ]
    },
    {
      "cell_type": "markdown",
      "source": [
        "Arrange Function"
      ],
      "metadata": {
        "id": "UkZsI5949daM"
      }
    },
    {
      "cell_type": "code",
      "source": [
        "np.arange(0, 10, 2) # 0 2 4 6 8"
      ],
      "metadata": {
        "colab": {
          "base_uri": "https://localhost:8080/"
        },
        "id": "-H7gVg239PnV",
        "outputId": "775a0482-5d2d-4d6e-8c4e-78121496953c"
      },
      "execution_count": 8,
      "outputs": [
        {
          "output_type": "execute_result",
          "data": {
            "text/plain": [
              "array([0, 2, 4, 6, 8])"
            ]
          },
          "metadata": {},
          "execution_count": 8
        }
      ]
    },
    {
      "cell_type": "markdown",
      "source": [
        "Ones Array"
      ],
      "metadata": {
        "id": "7F4aqLxx9hW4"
      }
    },
    {
      "cell_type": "code",
      "source": [
        "np.ones((3,4)) # 3 r, 4 c all have val = 1"
      ],
      "metadata": {
        "colab": {
          "base_uri": "https://localhost:8080/"
        },
        "id": "sfiJAJw49kTQ",
        "outputId": "9ee1960d-dff2-4f74-8b18-d40038873a29"
      },
      "execution_count": 9,
      "outputs": [
        {
          "output_type": "execute_result",
          "data": {
            "text/plain": [
              "array([[1., 1., 1., 1.],\n",
              "       [1., 1., 1., 1.],\n",
              "       [1., 1., 1., 1.]])"
            ]
          },
          "metadata": {},
          "execution_count": 9
        }
      ]
    },
    {
      "cell_type": "code",
      "source": [
        "np.eye(3) # 3 x 3 identity matrix. i.e, all diag elts = 1"
      ],
      "metadata": {
        "colab": {
          "base_uri": "https://localhost:8080/"
        },
        "id": "_CYUeJYJ9u28",
        "outputId": "bf40ce01-b443-476a-df08-fad1c9fa3e0e"
      },
      "execution_count": 10,
      "outputs": [
        {
          "output_type": "execute_result",
          "data": {
            "text/plain": [
              "array([[1., 0., 0.],\n",
              "       [0., 1., 0.],\n",
              "       [0., 0., 1.]])"
            ]
          },
          "metadata": {},
          "execution_count": 10
        }
      ]
    },
    {
      "cell_type": "markdown",
      "source": [
        "# **Vectorized Operations**"
      ],
      "metadata": {
        "id": "T4-v8vaP-C2I"
      }
    },
    {
      "cell_type": "markdown",
      "source": [
        "Element wise Addition/Subtraction/Multiplication/Division"
      ],
      "metadata": {
        "id": "Sppq7ZqN-KDf"
      }
    },
    {
      "cell_type": "code",
      "source": [
        "# Each elt of arr1 is added/sub/mul/div to elt of arr2\n",
        "\n",
        "arr1 = np.array([1,2,3,4])\n",
        "arr2 = np.array([5,6,7,8])\n",
        "\n",
        "print(arr1+arr2) #=> [6,8,10,12]\n",
        "print(arr1-arr2) #=> [-4,-4,-4,-4]\n",
        "print(arr1*arr2)\n",
        "print(arr1/arr2)"
      ],
      "metadata": {
        "colab": {
          "base_uri": "https://localhost:8080/"
        },
        "id": "0vHQ6zGI-GSL",
        "outputId": "19279951-123d-459e-862b-870ea5f31cd0"
      },
      "execution_count": 11,
      "outputs": [
        {
          "output_type": "stream",
          "name": "stdout",
          "text": [
            "[ 6  8 10 12]\n",
            "[-4 -4 -4 -4]\n",
            "[ 5 12 21 32]\n",
            "[0.2        0.33333333 0.42857143 0.5       ]\n"
          ]
        }
      ]
    },
    {
      "cell_type": "markdown",
      "source": [
        "Universal Functions"
      ],
      "metadata": {
        "id": "0AsMV0ul-8gv"
      }
    },
    {
      "cell_type": "code",
      "source": [
        "arr = np.array([1,2,3,4])\n",
        "\n",
        "# Sqrt\n",
        "print(np.sqrt(arr)) # sqrt(arr[i])\n",
        "\n",
        "# Exponent\n",
        "print(np.exp(arr)) # e^arr[i]\n",
        "\n",
        "# Sine\n",
        "print(np.sin(arr)) # sin(arr[i])\n",
        "\n",
        "# Natural log\n",
        "print(np.log(arr)) # ln(arr[i])"
      ],
      "metadata": {
        "colab": {
          "base_uri": "https://localhost:8080/"
        },
        "id": "FDlgkgOM--I4",
        "outputId": "7b141a04-0075-42a2-d084-9da599a3252f"
      },
      "execution_count": 12,
      "outputs": [
        {
          "output_type": "stream",
          "name": "stdout",
          "text": [
            "[1.         1.41421356 1.73205081 2.        ]\n",
            "[ 2.71828183  7.3890561  20.08553692 54.59815003]\n",
            "[ 0.84147098  0.90929743  0.14112001 -0.7568025 ]\n",
            "[0.         0.69314718 1.09861229 1.38629436]\n"
          ]
        }
      ]
    },
    {
      "cell_type": "markdown",
      "source": [
        "# **Array Slicing and Indexing**"
      ],
      "metadata": {
        "id": "CPRBNN28_v4c"
      }
    },
    {
      "cell_type": "code",
      "source": [
        "# Instead of arr[i][j] you can use arr[i, j]\n"
      ],
      "metadata": {
        "id": "07gvg8Ut_zD0"
      },
      "execution_count": null,
      "outputs": []
    },
    {
      "cell_type": "markdown",
      "source": [
        "# **Stats**"
      ],
      "metadata": {
        "id": "dWghbzF7w4AR"
      }
    },
    {
      "cell_type": "markdown",
      "source": [
        "Normalization\n"
      ],
      "metadata": {
        "id": "bjVeknNaw5wY"
      }
    },
    {
      "cell_type": "code",
      "source": [
        "data = np.array([1,2,3,4])\n",
        "\n",
        "mean = np.mean(data)\n",
        "std_dev = np.std(data)\n",
        "\n",
        "normalized_data = (data - mean)/std_dev"
      ],
      "metadata": {
        "id": "L8ERNSxnw7co"
      },
      "execution_count": 13,
      "outputs": []
    }
  ]
}