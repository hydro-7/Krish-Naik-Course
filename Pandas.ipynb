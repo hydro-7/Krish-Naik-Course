{
  "nbformat": 4,
  "nbformat_minor": 0,
  "metadata": {
    "colab": {
      "provenance": [],
      "authorship_tag": "ABX9TyNwz8IKaTnVG2ZQbbO7bawn",
      "include_colab_link": true
    },
    "kernelspec": {
      "name": "python3",
      "display_name": "Python 3"
    },
    "language_info": {
      "name": "python"
    }
  },
  "cells": [
    {
      "cell_type": "markdown",
      "metadata": {
        "id": "view-in-github",
        "colab_type": "text"
      },
      "source": [
        "<a href=\"https://colab.research.google.com/github/hydro-7/Krish-Naik-Course/blob/main/Pandas.ipynb\" target=\"_parent\"><img src=\"https://colab.research.google.com/assets/colab-badge.svg\" alt=\"Open In Colab\"/></a>"
      ]
    },
    {
      "cell_type": "code",
      "execution_count": null,
      "metadata": {
        "id": "t_wZ-uli1jU_"
      },
      "outputs": [],
      "source": [
        "!pip install pandas\n",
        "!pip install numpy\n",
        "!pip install ipykernel"
      ]
    },
    {
      "cell_type": "code",
      "source": [
        "import pandas as pd\n",
        "import numpy as np"
      ],
      "metadata": {
        "id": "bk-7j5Wu2INu"
      },
      "execution_count": null,
      "outputs": []
    },
    {
      "cell_type": "markdown",
      "source": [
        "# **Series**"
      ],
      "metadata": {
        "id": "ySrZzVdE2Uf4"
      }
    },
    {
      "cell_type": "code",
      "source": [
        "data = [1,2,3,4]\n",
        "series = pd.Series(data) # series from a list, indexing as : 0 1 2 3\n",
        "\n",
        "data1 = {'a':1, 'b':2, 'c':3}\n",
        "series1 = pd.Series(data1) # series from a dictionary, indexing as : a b c"
      ],
      "metadata": {
        "id": "J2AcT93T2V3w"
      },
      "execution_count": null,
      "outputs": []
    },
    {
      "cell_type": "code",
      "source": [
        "datalist = [1,2,3,4]\n",
        "indexlist = ['a', 'b', 'c', 'd']\n",
        "\n",
        "pd.Series(datalist, index = indexlist) # Series w index from indexlist & data from datalist"
      ],
      "metadata": {
        "id": "KemFSfg83RRo"
      },
      "execution_count": null,
      "outputs": []
    },
    {
      "cell_type": "markdown",
      "source": [
        "# **Dataframe**"
      ],
      "metadata": {
        "id": "lxMbhZms3m6j"
      }
    },
    {
      "cell_type": "code",
      "source": [
        "# Dataframe can have multiple rows & columns, whereas series is only 1D\n",
        "\n",
        "data = {\n",
        "    'Name' : [\"PP\", \"QQ\", \"RR\"],\n",
        "    'Age' : [20, 21, 22],\n",
        "    'City' : [\"Delhi\", \"Mumbai\", \"Chennai\"]\n",
        "}\n",
        "\n",
        "df = pd.DataFrame(data)\n",
        "print(df)\n",
        "np.array(df)"
      ],
      "metadata": {
        "id": "EmwGZXCqLI5H"
      },
      "execution_count": null,
      "outputs": []
    },
    {
      "cell_type": "markdown",
      "source": [
        "Reading CSV Files"
      ],
      "metadata": {
        "id": "ca9rzlWqNM7P"
      }
    },
    {
      "cell_type": "code",
      "source": [
        "# Reading a csv file called \"data_file\" :\n",
        "\n",
        "# df.head(n) gives the top n records from the dataframe\n",
        "\n",
        "df = pd.read_csv(\"data_file.csv\")\n",
        "df.head(1)\n",
        "\n",
        "# to pick up a particular column : df['column name'] OR df.iloc[col number]\n",
        "\n",
        "# to pick up a particular row : df.loc[row number]\n",
        "\n",
        "# to store using only index you includde header=None\n",
        "# i.e,\n",
        "\n",
        "df = pd.read_csv(\"data_file.csv\", header = None)\n",
        "df.head(1)"
      ],
      "metadata": {
        "id": "gI6QixoKNPs-"
      },
      "execution_count": null,
      "outputs": []
    },
    {
      "cell_type": "markdown",
      "source": [
        "# **Altering Dataframe**"
      ],
      "metadata": {
        "id": "OBIlQUAnWVW4"
      }
    },
    {
      "cell_type": "code",
      "source": [
        "# Creating a new column:\n",
        "\n",
        "df['new_column'] = [1, 2, 3, 4]\n",
        "\n",
        "# Remove a column:\n",
        "\n",
        "df.drop('row_name', inplace = True) # checkes the row indexes, incplace saves the df after removing i.e, makes a permanent change\n",
        "\n",
        "df.drop('col_name',axis = 1, inplace = True) # checks the column indexes"
      ],
      "metadata": {
        "id": "7nwgqhKlWxk0"
      },
      "execution_count": null,
      "outputs": []
    },
    {
      "cell_type": "markdown",
      "source": [
        "Statistical Results"
      ],
      "metadata": {
        "id": "9AFIkS8NXiW0"
      }
    },
    {
      "cell_type": "code",
      "source": [
        "# The describe function returns values of statistical importance wrt dataframe\n",
        "\n",
        "df.describe()"
      ],
      "metadata": {
        "id": "DkB2bbgIXk9Q"
      },
      "execution_count": null,
      "outputs": []
    },
    {
      "cell_type": "markdown",
      "source": [
        "Handling Missing Values"
      ],
      "metadata": {
        "id": "WqEDXQoiX_fn"
      }
    },
    {
      "cell_type": "code",
      "source": [
        "df.isnull().any() #shows if there is a missing value in each of the columns; true => missing value\n",
        "\n",
        "df.isnull().sum() #shows the number of missing values in each column\n",
        "\n",
        "df_filled = df.fillna(0) #fills the missing values with 0 (this isnt very viable)\n",
        "\n",
        "df_filled = df.fillna(df.mean()) #fills the missing values with the mean (more viable)"
      ],
      "metadata": {
        "id": "o-FnnVPCYBTu"
      },
      "execution_count": null,
      "outputs": []
    },
    {
      "cell_type": "markdown",
      "source": [
        "# **Data Aggregating and Grouping**"
      ],
      "metadata": {
        "id": "lqG3N7jzBAH2"
      }
    },
    {
      "cell_type": "markdown",
      "source": [
        "Mean for a column"
      ],
      "metadata": {
        "id": "Xqxy_qU_Km6w"
      }
    },
    {
      "cell_type": "code",
      "source": [
        "grouped_mean = df.groupby('column_name')['values_column'].mean() # column_name contains categorical data, whereas values_column contains corresponding values\n",
        "\n",
        "grouped_mean1 = df.groupby(['column_name', 'column_name_1'])['values_column'].mean() # grouping by multiple columns"
      ],
      "metadata": {
        "id": "KL7lWiZPKsPz"
      },
      "execution_count": null,
      "outputs": []
    },
    {
      "cell_type": "markdown",
      "source": [
        "# **Reading JSON Files**"
      ],
      "metadata": {
        "id": "nI3pgHfSPs9L"
      }
    },
    {
      "cell_type": "markdown",
      "source": [
        "Reading"
      ],
      "metadata": {
        "id": "oNMvpCcEQCBI"
      }
    },
    {
      "cell_type": "code",
      "source": [
        "from pandas as pd\n",
        "from io import StringIO\n",
        "Data = StringIO('{\"Name\":[\"PP\",\"QQ\",\"RR\"],\"Age\":[20,21,22],\"City\":[\"Delhi\",\"Mumbai\",\"Chennai\"]}')\n",
        "df = pd.read_json(StringIO(Data))\n",
        "df"
      ],
      "metadata": {
        "id": "E7vXADIbPwhr"
      },
      "execution_count": null,
      "outputs": []
    },
    {
      "cell_type": "markdown",
      "source": [
        "Converting DF back to JSON"
      ],
      "metadata": {
        "id": "ZKpCPjgvQG3C"
      }
    },
    {
      "cell_type": "code",
      "source": [
        "df.to_json()\n",
        "\n",
        "# takes key value pairs using index\n",
        "\n",
        "df.to_json(orient = 'index') # same as above\n",
        "\n",
        "# takes key value pairs using column names"
      ],
      "metadata": {
        "id": "LCGmvKw-QKnJ"
      },
      "execution_count": null,
      "outputs": []
    },
    {
      "cell_type": "code",
      "source": [
        "df.to_json(orient = 'records')\n",
        "\n",
        "# takes kvp using records return json file same as the original file"
      ],
      "metadata": {
        "id": "FsZD_u6JQasy"
      },
      "execution_count": null,
      "outputs": []
    },
    {
      "cell_type": "markdown",
      "source": [
        "# **Reading HTML Files**"
      ],
      "metadata": {
        "id": "usQ0gfvuRJba"
      }
    },
    {
      "cell_type": "code",
      "source": [
        "!pip install lxml\n",
        "!pip install html5lib\n",
        "!pip install BeautifulSoup4"
      ],
      "metadata": {
        "id": "XDikTQJ4RPr7"
      },
      "execution_count": null,
      "outputs": []
    },
    {
      "cell_type": "code",
      "source": [
        "url = 'https://www.w3schools.com/html/default.asp'\n",
        "df = pd.read_html(url)\n",
        "df[0]"
      ],
      "metadata": {
        "id": "IxLY60YbRMMi"
      },
      "execution_count": null,
      "outputs": []
    },
    {
      "cell_type": "code",
      "source": [
        "# if there are multiple tables on a particular url, you can use the match keyword\n",
        "# using this you can select the unique header of a particular table which you wish to select\n",
        "\n",
        "df = pd.read_html(url, match = 'Example')\n",
        "df[0]"
      ],
      "metadata": {
        "id": "abgT1gbiR8eX"
      },
      "execution_count": null,
      "outputs": []
    },
    {
      "cell_type": "markdown",
      "source": [
        "# **Reading Excel Files**"
      ],
      "metadata": {
        "id": "5o6gryZcSOsw"
      }
    },
    {
      "cell_type": "code",
      "source": [
        "!pip install openpyxl"
      ],
      "metadata": {
        "id": "8h4UaeBMSc42"
      },
      "execution_count": null,
      "outputs": []
    },
    {
      "cell_type": "code",
      "source": [
        "df_excel = pd.read_excel('data.xlsx')"
      ],
      "metadata": {
        "id": "Ah789l3ESRr7"
      },
      "execution_count": null,
      "outputs": []
    },
    {
      "cell_type": "markdown",
      "source": [
        "Pickle Files"
      ],
      "metadata": {
        "id": "CnoNY4OiSicy"
      }
    },
    {
      "cell_type": "code",
      "source": [
        "df_excel.to_pickle('df_excel')"
      ],
      "metadata": {
        "id": "_l11JnDdSsQ_"
      },
      "execution_count": null,
      "outputs": []
    },
    {
      "cell_type": "code",
      "source": [
        "pd.read_pickle('df_excel')"
      ],
      "metadata": {
        "id": "R2PBtuc4S0Au"
      },
      "execution_count": null,
      "outputs": []
    }
  ]
}